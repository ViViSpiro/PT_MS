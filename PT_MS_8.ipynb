{
 "cells": [
  {
   "cell_type": "code",
   "execution_count": 1,
   "id": "82479454",
   "metadata": {},
   "outputs": [],
   "source": [
    "import numpy as np"
   ]
  },
  {
   "cell_type": "markdown",
   "id": "5e4d94cd",
   "metadata": {},
   "source": [
    "Рост футболистов:"
   ]
  },
  {
   "cell_type": "code",
   "execution_count": 2,
   "id": "a2e40ca4",
   "metadata": {},
   "outputs": [],
   "source": [
    "fp = np.array([173, 175, 180, 178, 177, 185, 183, 182])"
   ]
  },
  {
   "cell_type": "markdown",
   "id": "94df4d87",
   "metadata": {},
   "source": [
    "Рост хоккеистов:"
   ]
  },
  {
   "cell_type": "code",
   "execution_count": 3,
   "id": "f41618d4",
   "metadata": {},
   "outputs": [],
   "source": [
    "hp = np.array([177, 179, 180, 188, 177, 172, 171, 184, 180])"
   ]
  },
  {
   "cell_type": "markdown",
   "id": "156b9a6f",
   "metadata": {},
   "source": [
    "Рост штангистов:"
   ]
  },
  {
   "cell_type": "code",
   "execution_count": 4,
   "id": "87415fe5",
   "metadata": {},
   "outputs": [],
   "source": [
    "wl = np.array([172, 173, 169, 177, 166, 180, 178, 177, 172, 166, 170])"
   ]
  },
  {
   "cell_type": "markdown",
   "id": "ca16886f",
   "metadata": {},
   "source": [
    "Количество выборок:"
   ]
  },
  {
   "cell_type": "code",
   "execution_count": 5,
   "id": "47d8bd87",
   "metadata": {},
   "outputs": [],
   "source": [
    "k = 3"
   ]
  },
  {
   "cell_type": "markdown",
   "id": "15a58961",
   "metadata": {},
   "source": [
    "Количество наблюдений:"
   ]
  },
  {
   "cell_type": "code",
   "execution_count": 6,
   "id": "1223b226",
   "metadata": {},
   "outputs": [
    {
     "data": {
      "text/plain": [
       "8"
      ]
     },
     "execution_count": 6,
     "metadata": {},
     "output_type": "execute_result"
    }
   ],
   "source": [
    "n_fp = len(fp)\n",
    "n_fp"
   ]
  },
  {
   "cell_type": "code",
   "execution_count": 7,
   "id": "63232a84",
   "metadata": {},
   "outputs": [
    {
     "data": {
      "text/plain": [
       "9"
      ]
     },
     "execution_count": 7,
     "metadata": {},
     "output_type": "execute_result"
    }
   ],
   "source": [
    "n_hp = len(hp)\n",
    "n_hp"
   ]
  },
  {
   "cell_type": "code",
   "execution_count": 8,
   "id": "fac644f4",
   "metadata": {},
   "outputs": [
    {
     "data": {
      "text/plain": [
       "11"
      ]
     },
     "execution_count": 8,
     "metadata": {},
     "output_type": "execute_result"
    }
   ],
   "source": [
    "n_wl = len(wl)\n",
    "n_wl"
   ]
  },
  {
   "cell_type": "code",
   "execution_count": 9,
   "id": "be5574e4",
   "metadata": {},
   "outputs": [
    {
     "data": {
      "text/plain": [
       "28"
      ]
     },
     "execution_count": 9,
     "metadata": {},
     "output_type": "execute_result"
    }
   ],
   "source": [
    "n_all = n_fp + n_hp + n_wl\n",
    "n_all"
   ]
  },
  {
   "cell_type": "markdown",
   "id": "94d6d610",
   "metadata": {},
   "source": [
    "Проведем однофакторный дисперсионный анализ. Сначала найдем средний рост в каждой выборке:"
   ]
  },
  {
   "cell_type": "code",
   "execution_count": 10,
   "id": "07adc7c6",
   "metadata": {},
   "outputs": [
    {
     "data": {
      "text/plain": [
       "179.125"
      ]
     },
     "execution_count": 10,
     "metadata": {},
     "output_type": "execute_result"
    }
   ],
   "source": [
    "fp_mean = np.mean(fp)\n",
    "fp_mean"
   ]
  },
  {
   "cell_type": "code",
   "execution_count": 11,
   "id": "03e0fe91",
   "metadata": {},
   "outputs": [
    {
     "data": {
      "text/plain": [
       "178.66666666666666"
      ]
     },
     "execution_count": 11,
     "metadata": {},
     "output_type": "execute_result"
    }
   ],
   "source": [
    "hp_mean = np.mean(hp)\n",
    "hp_mean"
   ]
  },
  {
   "cell_type": "code",
   "execution_count": 12,
   "id": "3755c8b1",
   "metadata": {},
   "outputs": [
    {
     "data": {
      "text/plain": [
       "172.72727272727272"
      ]
     },
     "execution_count": 12,
     "metadata": {},
     "output_type": "execute_result"
    }
   ],
   "source": [
    "wl_mean = np.mean(wl)\n",
    "wl_mean"
   ]
  },
  {
   "cell_type": "markdown",
   "id": "825024d6",
   "metadata": {},
   "source": [
    "Видно, что средний рост хоккеистов и футболистов почти одинаков. Установим, есть ли статистическая значимость отличий. Для этого сначала соберем все три выборки в один массив:"
   ]
  },
  {
   "cell_type": "code",
   "execution_count": 13,
   "id": "1fd4c512",
   "metadata": {},
   "outputs": [
    {
     "data": {
      "text/plain": [
       "array([173, 175, 180, 178, 177, 185, 183, 182, 177, 179, 180, 188, 177,\n",
       "       172, 171, 184, 180, 172, 173, 169, 177, 166, 180, 178, 177, 172,\n",
       "       166, 170])"
      ]
     },
     "execution_count": 13,
     "metadata": {},
     "output_type": "execute_result"
    }
   ],
   "source": [
    "h_all = np.concatenate([fp, hp, wl])\n",
    "h_all"
   ]
  },
  {
   "cell_type": "markdown",
   "id": "8a50c4dc",
   "metadata": {},
   "source": [
    "Найдем средний рост всех спортсменов:"
   ]
  },
  {
   "cell_type": "code",
   "execution_count": 14,
   "id": "2a65836d",
   "metadata": {},
   "outputs": [
    {
     "data": {
      "text/plain": [
       "176.46428571428572"
      ]
     },
     "execution_count": 14,
     "metadata": {},
     "output_type": "execute_result"
    }
   ],
   "source": [
    "h_mean = np.mean(h_all)\n",
    "h_mean"
   ]
  },
  {
   "cell_type": "markdown",
   "id": "dde47808",
   "metadata": {},
   "source": [
    "Найдем сумму квадратов отклонений наблюдений от общего среднего:"
   ]
  },
  {
   "cell_type": "code",
   "execution_count": 15,
   "id": "92e2a36a",
   "metadata": {},
   "outputs": [
    {
     "data": {
      "text/plain": [
       "830.9642857142854"
      ]
     },
     "execution_count": 15,
     "metadata": {},
     "output_type": "execute_result"
    }
   ],
   "source": [
    "s2 = np.sum((h_all - h_mean)**2)\n",
    "s2"
   ]
  },
  {
   "cell_type": "markdown",
   "id": "3dc18b5c",
   "metadata": {},
   "source": [
    "Найдем сумму квадратов отклонений средних групповых значений от общего среднего:"
   ]
  },
  {
   "cell_type": "code",
   "execution_count": 16,
   "id": "a1126026",
   "metadata": {},
   "outputs": [
    {
     "data": {
      "text/plain": [
       "253.9074675324678"
      ]
     },
     "execution_count": 16,
     "metadata": {},
     "output_type": "execute_result"
    }
   ],
   "source": [
    "s2_f = (fp_mean - h_mean)**2 * n_fp + (hp_mean - h_mean)**2 * n_hp + (wl_mean - h_mean)**2 * n_wl\n",
    "s2_f"
   ]
  },
  {
   "cell_type": "markdown",
   "id": "aaf69b57",
   "metadata": {},
   "source": [
    "Найдем остаточную сумму квадратов отклонений:"
   ]
  },
  {
   "cell_type": "code",
   "execution_count": 17,
   "id": "c43692cc",
   "metadata": {},
   "outputs": [
    {
     "data": {
      "text/plain": [
       "577.0568181818182"
      ]
     },
     "execution_count": 17,
     "metadata": {},
     "output_type": "execute_result"
    }
   ],
   "source": [
    "s2_res = np.sum((fp - fp_mean)**2) + np.sum((hp - hp_mean)**2) + np.sum((wl - wl_mean)**2)\n",
    "s2_res"
   ]
  },
  {
   "cell_type": "markdown",
   "id": "2d264557",
   "metadata": {},
   "source": [
    "Удостоверимся, что соблюдается равенство S2 = S2F + S2ост:"
   ]
  },
  {
   "cell_type": "code",
   "execution_count": 18,
   "id": "913644f5",
   "metadata": {},
   "outputs": [
    {
     "data": {
      "text/plain": [
       "830.964285714286"
      ]
     },
     "execution_count": 18,
     "metadata": {},
     "output_type": "execute_result"
    }
   ],
   "source": [
    "s2_f + s2_res"
   ]
  },
  {
   "cell_type": "markdown",
   "id": "6cb68292",
   "metadata": {},
   "source": [
    "Найдем общую дисперсию:"
   ]
  },
  {
   "cell_type": "code",
   "execution_count": 19,
   "id": "be81d784",
   "metadata": {},
   "outputs": [
    {
     "data": {
      "text/plain": [
       "30.776455026455015"
      ]
     },
     "execution_count": 19,
     "metadata": {},
     "output_type": "execute_result"
    }
   ],
   "source": [
    "sigma2_gen = s2 / (n_all - 1)\n",
    "sigma2_gen"
   ]
  },
  {
   "cell_type": "markdown",
   "id": "9ef3fa5b",
   "metadata": {},
   "source": [
    "Найдем факторную дисперсию:"
   ]
  },
  {
   "cell_type": "code",
   "execution_count": 20,
   "id": "78c23f6e",
   "metadata": {},
   "outputs": [
    {
     "data": {
      "text/plain": [
       "126.9537337662339"
      ]
     },
     "execution_count": 20,
     "metadata": {},
     "output_type": "execute_result"
    }
   ],
   "source": [
    "sigma2_f = s2_f / (k - 1)\n",
    "sigma2_f"
   ]
  },
  {
   "cell_type": "markdown",
   "id": "c8f95ff1",
   "metadata": {},
   "source": [
    "Найдем остаточную дисперсию:"
   ]
  },
  {
   "cell_type": "code",
   "execution_count": 21,
   "id": "be3c5ec2",
   "metadata": {},
   "outputs": [
    {
     "data": {
      "text/plain": [
       "23.08227272727273"
      ]
     },
     "execution_count": 21,
     "metadata": {},
     "output_type": "execute_result"
    }
   ],
   "source": [
    "sigma2_res = s2_res / (n_all - k)\n",
    "sigma2_res"
   ]
  },
  {
   "cell_type": "markdown",
   "id": "7f21355f",
   "metadata": {},
   "source": [
    "Вычислим FH:"
   ]
  },
  {
   "cell_type": "code",
   "execution_count": 22,
   "id": "d085fb4b",
   "metadata": {},
   "outputs": [
    {
     "data": {
      "text/plain": [
       "5.500053450812598"
      ]
     },
     "execution_count": 22,
     "metadata": {},
     "output_type": "execute_result"
    }
   ],
   "source": [
    "F_h = sigma2_f / sigma2_res\n",
    "F_h"
   ]
  },
  {
   "cell_type": "markdown",
   "id": "1bf753c7",
   "metadata": {},
   "source": [
    "Найдем значение Fкрит в таблице критических точек распределения Фишера-Снедекора для заданного уровня значимости и двух степеней свободы:"
   ]
  },
  {
   "cell_type": "code",
   "execution_count": 23,
   "id": "14f161c9",
   "metadata": {},
   "outputs": [
    {
     "data": {
      "text/plain": [
       "(0.05, 2, 25)"
      ]
     },
     "execution_count": 23,
     "metadata": {},
     "output_type": "execute_result"
    }
   ],
   "source": [
    "alpha = 0.05\n",
    "v1 = k - 1\n",
    "v2 = n_all - k\n",
    "alpha, v1, v2"
   ]
  },
  {
   "cell_type": "markdown",
   "id": "fe77f54e",
   "metadata": {},
   "source": [
    "Для данных значений Fкрит = 3.38. Так как FН > Fкрит, различие среднего роста в трех группах статистически значимо."
   ]
  },
  {
   "cell_type": "markdown",
   "id": "f0531470",
   "metadata": {},
   "source": [
    "Также вычислим эмпирическое корреляционное отношение η2:"
   ]
  },
  {
   "cell_type": "code",
   "execution_count": 24,
   "id": "44d313b3",
   "metadata": {},
   "outputs": [
    {
     "data": {
      "text/plain": [
       "0.30555761769498"
      ]
     },
     "execution_count": 24,
     "metadata": {},
     "output_type": "execute_result"
    }
   ],
   "source": [
    "eta2 = s2_f / s2\n",
    "eta2"
   ]
  },
  {
   "cell_type": "markdown",
   "id": "ceace89b",
   "metadata": {},
   "source": [
    "Значение η2 близко к 0,3 — это значит, что различие среднего роста спортсменов в трех группах имеет статистическую значимость, но низкую."
   ]
  }
 ],
 "metadata": {
  "kernelspec": {
   "display_name": "Python 3 (ipykernel)",
   "language": "python",
   "name": "python3"
  },
  "language_info": {
   "codemirror_mode": {
    "name": "ipython",
    "version": 3
   },
   "file_extension": ".py",
   "mimetype": "text/x-python",
   "name": "python",
   "nbconvert_exporter": "python",
   "pygments_lexer": "ipython3",
   "version": "3.9.13"
  }
 },
 "nbformat": 4,
 "nbformat_minor": 5
}
